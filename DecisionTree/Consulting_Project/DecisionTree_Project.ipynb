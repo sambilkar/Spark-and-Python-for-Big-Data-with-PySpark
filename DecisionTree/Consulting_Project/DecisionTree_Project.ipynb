{
 "cells": [
  {
   "cell_type": "markdown",
   "id": "e77c8166",
   "metadata": {},
   "source": [
    "1. You have been contracted by the purina dog food company and flown out to their HQ in st. Louis Missouri!\n",
    "2. You have been hired by a dog food companay to try to predict why some batches of their dosg food are spoiling \n",
    "    much quicker than intended!\n",
    "3. Unfortunately this dong food company hasnt upgraded to the latest machinery meaning that the amounts of the five \n",
    "    preservative chemicals they are using can very lot, but which is the chemical that has the strongest effect?\n",
    "4. The dog food company first mixes up a batch of preservative that contains 4 different preservative chemicals \n",
    "    (A,B,C,D) and then is completed with a filler chemical.\n",
    "5. The food scientists belive one of the A,B,C or D preservatives is causing the problem, but need your help to \n",
    "    figure out which one.\n",
    "6. Use Machine Learning with RF to find out which parameter had the most predictive power, thus finding out which \n",
    "    chemical causes the early spoiling!\n",
    "7. so create a model and then find out how you can decide which chemical is the problem!\n"
   ]
  },
  {
   "cell_type": "markdown",
   "id": "269f7cd8",
   "metadata": {},
   "source": [
    "# Theire data looks like this:\n",
    "    Pres_A: Percentage fo preservative A in the mix\n",
    "    Pres_B: Percentage fo preservative B in the mix\n",
    "    Pres_C: Percentage fo preservative C in the mix\n",
    "    Pres_D: Percentage fo preservative D in the mix\n",
    "    spoiled: Label indicating whether or not the dog food batch was spoiled"
   ]
  },
  {
   "cell_type": "markdown",
   "id": "2afe0f6d",
   "metadata": {},
   "source": [
    "## our main task was to figure out which preservative chemical (A,B,C,D) was having an effect on the dog food being spoiled."
   ]
  },
  {
   "cell_type": "markdown",
   "id": "29c95d42",
   "metadata": {},
   "source": [
    "### so how can we use machine learning models to solve this?\n",
    "1. Many machine learning models produce some sort of coefficient value for each feature involved, indicating their\n",
    "    \"importannce\" or predictive power.\n",
    "2. Remember back to the documentation lecture for this section of the course!\n",
    "3. We mentioned that these tree method classifier had a .fetureImportances attributes available!\n",
    "4. so we can create a model fit it on all the data, and then check which feature (preservative)was causing the \n",
    "    spoilage.\n",
    "5. .featureImportances returns:\n",
    "    SparseVector(4, {0:0.0026, 1:0.0089, 2:0.9686, 3:0.0199})\n",
    "6. Corresponding to a features column:\n",
    "    Row(features= DenseVector([4.0,2.0,12.0,3.0]),Spoiled = 1.0)\n"
   ]
  },
  {
   "cell_type": "code",
   "execution_count": 1,
   "id": "db9d5cf9",
   "metadata": {},
   "outputs": [],
   "source": [
    "from pyspark.sql import SparkSession\n",
    "spark = SparkSession.builder.appName(\"tree_consult\").getOrCreate()"
   ]
  },
  {
   "cell_type": "code",
   "execution_count": 2,
   "id": "22fc789f",
   "metadata": {},
   "outputs": [],
   "source": [
    "data = spark.read.csv('dog_food.csv',inferSchema=True, header=True)"
   ]
  },
  {
   "cell_type": "code",
   "execution_count": 3,
   "id": "79df736d",
   "metadata": {},
   "outputs": [
    {
     "data": {
      "text/plain": [
       "[Row(A=4, B=2, C=12.0, D=3, Spoiled=1.0)]"
      ]
     },
     "execution_count": 3,
     "metadata": {},
     "output_type": "execute_result"
    }
   ],
   "source": [
    "data.head(1)"
   ]
  },
  {
   "cell_type": "code",
   "execution_count": 4,
   "id": "a6abdcb5",
   "metadata": {},
   "outputs": [],
   "source": [
    "from pyspark.ml.feature import VectorAssembler"
   ]
  },
  {
   "cell_type": "code",
   "execution_count": 5,
   "id": "c8310970",
   "metadata": {},
   "outputs": [
    {
     "data": {
      "text/plain": [
       "['A', 'B', 'C', 'D', 'Spoiled']"
      ]
     },
     "execution_count": 5,
     "metadata": {},
     "output_type": "execute_result"
    }
   ],
   "source": [
    "data.columns"
   ]
  },
  {
   "cell_type": "code",
   "execution_count": 6,
   "id": "fe5e3136",
   "metadata": {},
   "outputs": [],
   "source": [
    "assembler = VectorAssembler(inputCols=['A','B','C','D'],outputCol='features')"
   ]
  },
  {
   "cell_type": "code",
   "execution_count": 7,
   "id": "cbbf90c8",
   "metadata": {},
   "outputs": [],
   "source": [
    "output = assembler.transform(data)"
   ]
  },
  {
   "cell_type": "code",
   "execution_count": 8,
   "id": "678af45b",
   "metadata": {},
   "outputs": [],
   "source": [
    "from pyspark.ml.classification import RandomForestClassifier"
   ]
  },
  {
   "cell_type": "code",
   "execution_count": 10,
   "id": "8e3f8e20",
   "metadata": {},
   "outputs": [],
   "source": [
    "rfc = RandomForestClassifier(labelCol='Spoiled',featuresCol='features')"
   ]
  },
  {
   "cell_type": "code",
   "execution_count": 11,
   "id": "77f42702",
   "metadata": {},
   "outputs": [
    {
     "name": "stdout",
     "output_type": "stream",
     "text": [
      "root\n",
      " |-- A: integer (nullable = true)\n",
      " |-- B: integer (nullable = true)\n",
      " |-- C: double (nullable = true)\n",
      " |-- D: integer (nullable = true)\n",
      " |-- Spoiled: double (nullable = true)\n",
      " |-- features: vector (nullable = true)\n",
      "\n"
     ]
    }
   ],
   "source": [
    "output.printSchema()"
   ]
  },
  {
   "cell_type": "code",
   "execution_count": 12,
   "id": "f0e806cb",
   "metadata": {},
   "outputs": [],
   "source": [
    "final_data = output.select(['features','Spoiled'])"
   ]
  },
  {
   "cell_type": "code",
   "execution_count": 13,
   "id": "102a1831",
   "metadata": {},
   "outputs": [
    {
     "name": "stdout",
     "output_type": "stream",
     "text": [
      "+-------------------+-------+\n",
      "|           features|Spoiled|\n",
      "+-------------------+-------+\n",
      "| [4.0,2.0,12.0,3.0]|    1.0|\n",
      "| [5.0,6.0,12.0,7.0]|    1.0|\n",
      "| [6.0,2.0,13.0,6.0]|    1.0|\n",
      "| [4.0,2.0,12.0,1.0]|    1.0|\n",
      "| [4.0,2.0,12.0,3.0]|    1.0|\n",
      "|[10.0,3.0,13.0,9.0]|    1.0|\n",
      "| [8.0,5.0,14.0,5.0]|    1.0|\n",
      "| [5.0,8.0,12.0,8.0]|    1.0|\n",
      "| [6.0,5.0,12.0,9.0]|    1.0|\n",
      "| [3.0,3.0,12.0,1.0]|    1.0|\n",
      "| [9.0,8.0,11.0,3.0]|    1.0|\n",
      "|[1.0,10.0,12.0,3.0]|    1.0|\n",
      "|[1.0,5.0,13.0,10.0]|    1.0|\n",
      "|[2.0,10.0,12.0,6.0]|    1.0|\n",
      "|[1.0,10.0,11.0,4.0]|    1.0|\n",
      "| [5.0,3.0,12.0,2.0]|    1.0|\n",
      "| [4.0,9.0,11.0,8.0]|    1.0|\n",
      "| [5.0,1.0,11.0,1.0]|    1.0|\n",
      "|[4.0,9.0,12.0,10.0]|    1.0|\n",
      "| [5.0,8.0,10.0,9.0]|    1.0|\n",
      "+-------------------+-------+\n",
      "only showing top 20 rows\n",
      "\n"
     ]
    }
   ],
   "source": [
    "final_data.show()"
   ]
  },
  {
   "cell_type": "code",
   "execution_count": 14,
   "id": "b6240f7e",
   "metadata": {},
   "outputs": [],
   "source": [
    "rfc_model = rfc.fit(final_data)"
   ]
  },
  {
   "cell_type": "code",
   "execution_count": 15,
   "id": "34f3d1bb",
   "metadata": {},
   "outputs": [
    {
     "data": {
      "text/plain": [
       "[Row(features=DenseVector([4.0, 2.0, 12.0, 3.0]), Spoiled=1.0),\n",
       " Row(features=DenseVector([5.0, 6.0, 12.0, 7.0]), Spoiled=1.0)]"
      ]
     },
     "execution_count": 15,
     "metadata": {},
     "output_type": "execute_result"
    }
   ],
   "source": [
    "final_data.head(2)"
   ]
  },
  {
   "cell_type": "code",
   "execution_count": 16,
   "id": "ce09ae16",
   "metadata": {},
   "outputs": [
    {
     "data": {
      "text/plain": [
       "SparseVector(4, {0: 0.0176, 1: 0.0169, 2: 0.9464, 3: 0.0191})"
      ]
     },
     "execution_count": 16,
     "metadata": {},
     "output_type": "execute_result"
    }
   ],
   "source": [
    "rfc_model.featureImportances"
   ]
  },
  {
   "cell_type": "code",
   "execution_count": null,
   "id": "b23c6ee2",
   "metadata": {},
   "outputs": [],
   "source": []
  }
 ],
 "metadata": {
  "kernelspec": {
   "display_name": "Python 3",
   "language": "python",
   "name": "python3"
  },
  "language_info": {
   "codemirror_mode": {
    "name": "ipython",
    "version": 3
   },
   "file_extension": ".py",
   "mimetype": "text/x-python",
   "name": "python",
   "nbconvert_exporter": "python",
   "pygments_lexer": "ipython3",
   "version": "3.8.5"
  }
 },
 "nbformat": 4,
 "nbformat_minor": 5
}
