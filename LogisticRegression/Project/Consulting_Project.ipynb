{
 "cells": [
  {
   "cell_type": "markdown",
   "id": "f57aeb91",
   "metadata": {},
   "source": [
    "# A marketing agency has many customoers that use their service to produce ads for the client / customer websites\n",
    "They've noticed that they have quite a bit of churn in clients\n",
    "\n",
    "They currently randomely assign account managers, but want tyou to create a machine learning model that will help predict which customers will churn (stop buying their service) so that they can correctly assign the customers most at risk to churn an account manager.\n",
    "\n",
    "They have some historical data can you help them out?\n",
    "\n",
    "## Create a classification algorithm that will help classify whether or not a customer churned.\n",
    "Then company can test this against incoming data for future customers to predict which curstomers will churn and assign them an account manager\n"
   ]
  },
  {
   "cell_type": "markdown",
   "id": "c50e9258",
   "metadata": {},
   "source": [
    "1. Name: name of the latest contact at company\n",
    "2. Age: Customer Age\n",
    "3. Total_Purchase: Total Ads Purchased\n",
    "4. Account_Manager: Binary 0=N0 manager, 1= Account Manager assigned\n",
    "5. Years: Total years as customer\n",
    "6. Num_Sites: Number of websites that use the service\n",
    "7. Onboard_date: Date that the name of the latest contact was onboarded\n",
    "8. Location: Client HQ Address\n",
    "9. Company: Name of Client company\n",
    "\n",
    "10. Churn: 0 or 1 indicating whether customer has churned.\n",
    "\n",
    "Your goal is to create a model that predict whether a customer will churn (o or 1) based off the features\n",
    "Remember that the acccount manager is currently randomely assigned."
   ]
  },
  {
   "cell_type": "code",
   "execution_count": 1,
   "id": "e07cd7bf",
   "metadata": {},
   "outputs": [],
   "source": [
    "from pyspark.sql import SparkSession"
   ]
  },
  {
   "cell_type": "code",
   "execution_count": 2,
   "id": "d8447d30",
   "metadata": {},
   "outputs": [],
   "source": [
    "spark = SparkSession.builder.appName(\"logregconsult\").getOrCreate()"
   ]
  },
  {
   "cell_type": "code",
   "execution_count": 3,
   "id": "49276423",
   "metadata": {},
   "outputs": [],
   "source": [
    "data = spark.read.csv('customer_churn.csv',inferSchema=True, header=True)"
   ]
  },
  {
   "cell_type": "code",
   "execution_count": 4,
   "id": "3ca7144e",
   "metadata": {},
   "outputs": [
    {
     "name": "stdout",
     "output_type": "stream",
     "text": [
      "root\n",
      " |-- Names: string (nullable = true)\n",
      " |-- Age: double (nullable = true)\n",
      " |-- Total_Purchase: double (nullable = true)\n",
      " |-- Account_Manager: integer (nullable = true)\n",
      " |-- Years: double (nullable = true)\n",
      " |-- Num_Sites: double (nullable = true)\n",
      " |-- Onboard_date: string (nullable = true)\n",
      " |-- Location: string (nullable = true)\n",
      " |-- Company: string (nullable = true)\n",
      " |-- Churn: integer (nullable = true)\n",
      "\n"
     ]
    }
   ],
   "source": [
    "data.printSchema()"
   ]
  },
  {
   "cell_type": "code",
   "execution_count": 5,
   "id": "48fb86c4",
   "metadata": {},
   "outputs": [
    {
     "name": "stdout",
     "output_type": "stream",
     "text": [
      "+-------+-------------+-----------------+-----------------+------------------+-----------------+------------------+-------------------+--------------------+--------------------+-------------------+\n",
      "|summary|        Names|              Age|   Total_Purchase|   Account_Manager|            Years|         Num_Sites|       Onboard_date|            Location|             Company|              Churn|\n",
      "+-------+-------------+-----------------+-----------------+------------------+-----------------+------------------+-------------------+--------------------+--------------------+-------------------+\n",
      "|  count|          900|              900|              900|               900|              900|               900|                900|                 900|                 900|                900|\n",
      "|   mean|         null|41.81666666666667|10062.82403333334|0.4811111111111111| 5.27315555555555| 8.587777777777777|               null|                null|                null|0.16666666666666666|\n",
      "| stddev|         null|6.127560416916251|2408.644531858096|0.4999208935073339|1.274449013194616|1.7648355920350969|               null|                null|                null| 0.3728852122772358|\n",
      "|    min|   Aaron King|             22.0|            100.0|                 0|              1.0|               3.0|2006-01-02 04:16:13|00103 Jeffrey Cre...|     Abbott-Thompson|                  0|\n",
      "|    max|Zachary Walsh|             65.0|         18026.01|                 1|             9.15|              14.0|2016-12-28 04:07:38|Unit 9800 Box 287...|Zuniga, Clark and...|                  1|\n",
      "+-------+-------------+-----------------+-----------------+------------------+-----------------+------------------+-------------------+--------------------+--------------------+-------------------+\n",
      "\n"
     ]
    }
   ],
   "source": [
    "data.describe().show()"
   ]
  },
  {
   "cell_type": "code",
   "execution_count": 6,
   "id": "2da573ca",
   "metadata": {},
   "outputs": [
    {
     "data": {
      "text/plain": [
       "['Names',\n",
       " 'Age',\n",
       " 'Total_Purchase',\n",
       " 'Account_Manager',\n",
       " 'Years',\n",
       " 'Num_Sites',\n",
       " 'Onboard_date',\n",
       " 'Location',\n",
       " 'Company',\n",
       " 'Churn']"
      ]
     },
     "execution_count": 6,
     "metadata": {},
     "output_type": "execute_result"
    }
   ],
   "source": [
    "data.columns"
   ]
  },
  {
   "cell_type": "code",
   "execution_count": 7,
   "id": "8cce8719",
   "metadata": {},
   "outputs": [],
   "source": [
    "from pyspark.ml.feature import VectorAssembler"
   ]
  },
  {
   "cell_type": "code",
   "execution_count": 10,
   "id": "4e7f81cd",
   "metadata": {},
   "outputs": [],
   "source": [
    "assembler = VectorAssembler(inputCols=['Age',\n",
    "                                      'Total_Purchase',\n",
    "                                      'Account_Manager',\n",
    "                                      'Years',\n",
    "                                      'Num_Sites'],outputCol='features')"
   ]
  },
  {
   "cell_type": "code",
   "execution_count": 11,
   "id": "1f5bdcf0",
   "metadata": {},
   "outputs": [],
   "source": [
    "output = assembler.transform(data)"
   ]
  },
  {
   "cell_type": "code",
   "execution_count": 12,
   "id": "d14cf490",
   "metadata": {},
   "outputs": [],
   "source": [
    "final_data = output.select('features','churn')"
   ]
  },
  {
   "cell_type": "code",
   "execution_count": 13,
   "id": "d0b0d42a",
   "metadata": {},
   "outputs": [],
   "source": [
    "train_churn, test_churn = final_data.randomSplit([0.7,0.3])"
   ]
  },
  {
   "cell_type": "code",
   "execution_count": 14,
   "id": "3acd744f",
   "metadata": {},
   "outputs": [],
   "source": [
    "from pyspark.ml.classification import LogisticRegression"
   ]
  },
  {
   "cell_type": "code",
   "execution_count": 15,
   "id": "a1fce5ed",
   "metadata": {},
   "outputs": [],
   "source": [
    "lr_churn = LogisticRegression(labelCol='churn')"
   ]
  },
  {
   "cell_type": "code",
   "execution_count": 16,
   "id": "8ce01754",
   "metadata": {},
   "outputs": [],
   "source": [
    "fitted_churn_model = lr_churn.fit(train_churn)"
   ]
  },
  {
   "cell_type": "code",
   "execution_count": 17,
   "id": "be350b90",
   "metadata": {},
   "outputs": [],
   "source": [
    "training_sum = fitted_churn_model.summary"
   ]
  },
  {
   "cell_type": "code",
   "execution_count": 18,
   "id": "587bc291",
   "metadata": {},
   "outputs": [
    {
     "name": "stdout",
     "output_type": "stream",
     "text": [
      "+-------+------------------+-------------------+\n",
      "|summary|             churn|         prediction|\n",
      "+-------+------------------+-------------------+\n",
      "|  count|               630|                630|\n",
      "|   mean| 0.173015873015873|0.13015873015873017|\n",
      "| stddev|0.3785615604806714| 0.3367453504422738|\n",
      "|    min|               0.0|                0.0|\n",
      "|    max|               1.0|                1.0|\n",
      "+-------+------------------+-------------------+\n",
      "\n"
     ]
    }
   ],
   "source": [
    "training_sum.predictions.describe().show()"
   ]
  },
  {
   "cell_type": "code",
   "execution_count": 19,
   "id": "511e60fe",
   "metadata": {},
   "outputs": [],
   "source": [
    "from pyspark.ml.evaluation import BinaryClassificationEvaluator"
   ]
  },
  {
   "cell_type": "code",
   "execution_count": 20,
   "id": "38470f91",
   "metadata": {},
   "outputs": [],
   "source": [
    "pred_and_labels = fitted_churn_model.evaluate(test_churn)"
   ]
  },
  {
   "cell_type": "code",
   "execution_count": 21,
   "id": "7c2775e5",
   "metadata": {},
   "outputs": [
    {
     "name": "stdout",
     "output_type": "stream",
     "text": [
      "+--------------------+-----+--------------------+--------------------+----------+\n",
      "|            features|churn|       rawPrediction|         probability|prediction|\n",
      "+--------------------+-----+--------------------+--------------------+----------+\n",
      "|[25.0,9672.03,0.0...|    0|[4.15933013419811...|[0.98462215504283...|       0.0|\n",
      "|[28.0,11128.95,1....|    0|[3.89797818361482...|[0.98012033848093...|       0.0|\n",
      "|[29.0,5900.78,1.0...|    0|[3.58224677329476...|[0.97293949926017...|       0.0|\n",
      "|[29.0,11274.46,1....|    0|[4.25508271020556...|[0.98600667522147...|       0.0|\n",
      "|[30.0,10744.14,1....|    1|[1.44506063173800...|[0.80923709620359...|       0.0|\n",
      "|[30.0,10960.52,1....|    0|[2.13536165798201...|[0.89429293494806...|       0.0|\n",
      "|[31.0,5304.6,0.0,...|    0|[2.81598090279714...|[0.94353331749454...|       0.0|\n",
      "|[31.0,10058.87,1....|    0|[4.15730464239268...|[0.98459145620494...|       0.0|\n",
      "|[31.0,12264.68,1....|    0|[3.34666644972021...|[0.96599550468753...|       0.0|\n",
      "|[32.0,8011.38,0.0...|    0|[1.55403270376190...|[0.82549541658395...|       0.0|\n",
      "|[32.0,9036.27,0.0...|    0|[-0.6692301551105...|[0.33866924337367...|       1.0|\n",
      "|[32.0,10716.75,0....|    0|[4.09710540413271...|[0.98365101573083...|       0.0|\n",
      "|[32.0,12142.99,0....|    0|[5.36609389841882...|[0.99534938292209...|       0.0|\n",
      "|[32.0,13630.93,0....|    0|[2.13604018744081...|[0.89435706126988...|       0.0|\n",
      "|[33.0,8556.73,0.0...|    0|[3.37091356948588...|[0.96678304167241...|       0.0|\n",
      "|[33.0,10306.21,1....|    0|[1.78295876760623...|[0.85606182940026...|       0.0|\n",
      "|[33.0,12249.96,0....|    0|[5.30478018216533...|[0.99505676682760...|       0.0|\n",
      "|[33.0,12638.51,1....|    0|[3.76826841432557...|[0.97742919096012...|       0.0|\n",
      "|[33.0,13157.08,1....|    0|[1.35430634111155...|[0.79483277056642...|       0.0|\n",
      "|[34.0,5447.16,1.0...|    0|[3.00265171757191...|[0.95269377890045...|       0.0|\n",
      "+--------------------+-----+--------------------+--------------------+----------+\n",
      "only showing top 20 rows\n",
      "\n"
     ]
    }
   ],
   "source": [
    "pred_and_labels.predictions.show()"
   ]
  },
  {
   "cell_type": "code",
   "execution_count": 25,
   "id": "0918b27c",
   "metadata": {},
   "outputs": [],
   "source": [
    "churn_eval = BinaryClassificationEvaluator(rawPredictionCol='prediction',\n",
    "                                           labelCol='churn')"
   ]
  },
  {
   "cell_type": "code",
   "execution_count": 26,
   "id": "0a7407a4",
   "metadata": {},
   "outputs": [],
   "source": [
    "auc = churn_eval.evaluate(pred_and_labels.predictions)"
   ]
  },
  {
   "cell_type": "code",
   "execution_count": 27,
   "id": "2e83e4a9",
   "metadata": {},
   "outputs": [
    {
     "data": {
      "text/plain": [
       "0.8139844498881671"
      ]
     },
     "execution_count": 27,
     "metadata": {},
     "output_type": "execute_result"
    }
   ],
   "source": [
    "auc"
   ]
  },
  {
   "cell_type": "markdown",
   "id": "692798b1",
   "metadata": {},
   "source": [
    "### Predict on new Data"
   ]
  },
  {
   "cell_type": "code",
   "execution_count": 28,
   "id": "234f29b5",
   "metadata": {},
   "outputs": [],
   "source": [
    "final_lr_model = lr_churn.fit(final_data)"
   ]
  },
  {
   "cell_type": "code",
   "execution_count": 31,
   "id": "7ea002ed",
   "metadata": {},
   "outputs": [],
   "source": [
    "new_customers = spark.read.csv('customer.csv', inferSchema=True, header=True)"
   ]
  },
  {
   "cell_type": "code",
   "execution_count": 32,
   "id": "b082dac1",
   "metadata": {},
   "outputs": [
    {
     "name": "stdout",
     "output_type": "stream",
     "text": [
      "root\n",
      " |-- Names: string (nullable = true)\n",
      " |-- Age: integer (nullable = true)\n",
      " |-- Total_Purchase: double (nullable = true)\n",
      " |-- Account_Manager: integer (nullable = true)\n",
      " |-- Years: double (nullable = true)\n",
      " |-- Num_Sites: integer (nullable = true)\n",
      " |-- Onboard_date: string (nullable = true)\n",
      " |-- Location: string (nullable = true)\n",
      " |-- Company: string (nullable = true)\n",
      " |-- Churn: integer (nullable = true)\n",
      "\n"
     ]
    }
   ],
   "source": [
    "new_customers.printSchema()"
   ]
  },
  {
   "cell_type": "code",
   "execution_count": 33,
   "id": "f253dfa8",
   "metadata": {},
   "outputs": [],
   "source": [
    "test_new_customers = assembler.transform(new_customers)"
   ]
  },
  {
   "cell_type": "code",
   "execution_count": 34,
   "id": "7763097f",
   "metadata": {},
   "outputs": [
    {
     "name": "stdout",
     "output_type": "stream",
     "text": [
      "root\n",
      " |-- Names: string (nullable = true)\n",
      " |-- Age: integer (nullable = true)\n",
      " |-- Total_Purchase: double (nullable = true)\n",
      " |-- Account_Manager: integer (nullable = true)\n",
      " |-- Years: double (nullable = true)\n",
      " |-- Num_Sites: integer (nullable = true)\n",
      " |-- Onboard_date: string (nullable = true)\n",
      " |-- Location: string (nullable = true)\n",
      " |-- Company: string (nullable = true)\n",
      " |-- Churn: integer (nullable = true)\n",
      " |-- features: vector (nullable = true)\n",
      "\n"
     ]
    }
   ],
   "source": [
    "test_new_customers.printSchema()"
   ]
  },
  {
   "cell_type": "code",
   "execution_count": 36,
   "id": "85a62f4c",
   "metadata": {},
   "outputs": [],
   "source": [
    "final_result = final_lr_model.transform(test_new_customers)"
   ]
  },
  {
   "cell_type": "code",
   "execution_count": 38,
   "id": "4f1eeab3",
   "metadata": {},
   "outputs": [
    {
     "name": "stdout",
     "output_type": "stream",
     "text": [
      "+-------------------+---+--------------+---------------+-----+---------+-------------------+--------------------+--------------------+-----+--------------------+--------------------+--------------------+----------+\n",
      "|              Names|Age|Total_Purchase|Account_Manager|Years|Num_Sites|       Onboard_date|            Location|             Company|Churn|            features|       rawPrediction|         probability|prediction|\n",
      "+-------------------+---+--------------+---------------+-----+---------+-------------------+--------------------+--------------------+-----+--------------------+--------------------+--------------------+----------+\n",
      "|   Cameron Williams| 42|       11066.8|              0| 7.22|        8|2013-08-30 07:00:40|10265 Elizabeth M...|          Harvey LLC|    1|[42.0,11066.8,0.0...|[2.63872820904874...|[0.93331285179943...|       0.0|\n",
      "|      Kevin Mueller| 41|      11916.22|              0|  6.5|       11|2013-08-13 00:38:46|6157 Frank Garden...|          Wilson PLC|    1|[41.0,11916.22,0....|[-0.5603687377973...|[0.36346214520078...|       1.0|\n",
      "|        Eric Lozano| 38|      12884.75|              0| 6.67|       12|2016-06-29 06:20:07|1331 Keith Court ...|Miller, Johnson a...|    1|[38.0,12884.75,0....|[-1.7248772698751...|[0.15124400660968...|       1.0|\n",
      "|      Phillip White| 42|       8010.76|              0| 6.71|       10|2014-04-22 12:43:12|13120 Daniel Moun...|           Smith Inc|    1|[42.0,8010.76,0.0...|[0.61826468047295...|[0.64982377443024...|       0.0|\n",
      "|     Cynthia Norton| 37|       9191.58|              0| 5.56|        9|2016-01-19 15:31:15|765 Tricia Row Ka...|          Love-Jones|    1|[37.0,9191.58,0.0...|[2.73569599018186...|[0.93910041149429...|       0.0|\n",
      "|   Jessica Williams| 48|      10356.02|              0| 5.12|        8|2009-03-03 23:13:37|6187 Olson Mounta...|        Kelly-Warren|    1|[48.0,10356.02,0....|[3.49497774094469...|[0.97054453249324...|       0.0|\n",
      "|        Eric Butler| 44|      11331.58|              1| 5.23|       11|2016-12-05 03:35:43|4846 Savannah Roa...|   Reynolds-Sheppard|    1|[44.0,11331.58,1....|[-0.4801270378528...|[0.38222212754049...|       1.0|\n",
      "|      Zachary Walsh| 32|       9885.12|              1| 6.92|        9|2006-03-09 14:50:20|25271 Roy Express...|          Singh-Cole|    1|[32.0,9885.12,1.0...|[1.75815826616116...|[0.85297884596180...|       0.0|\n",
      "|        Ashlee Carr| 43|       14062.6|              1| 5.46|       11|2011-09-29 05:47:23|3725 Caroline Str...|           Lopez PLC|    1|[43.0,14062.6,1.0...|[-0.6523992457278...|[0.34244907663934...|       1.0|\n",
      "|     Jennifer Lynch| 40|       8066.94|              1| 7.11|       11|2006-03-28 15:42:45|363 Sandra Lodge ...|       Reed-Martinez|    1|[40.0,8066.94,1.0...|[-1.1831389019839...|[0.23448828274497...|       1.0|\n",
      "|       Paula Harris| 30|      11575.37|              1| 5.22|        8|2016-11-13 13:13:01|Unit 8120 Box 916...|Briggs, Lamb and ...|    1|[30.0,11575.37,1....|[3.98845252924535...|[0.98180869114484...|       0.0|\n",
      "|     Bruce Phillips| 45|       8771.02|              1| 6.64|       11|2015-05-28 12:14:03|Unit 1895 Box 094...|    Figueroa-Maynard|    1|[45.0,8771.02,1.0...|[-1.2424316355983...|[0.22401300799308...|       1.0|\n",
      "|       Craig Garner| 45|       8988.67|              1| 4.84|       11|2011-02-16 08:10:47|897 Kelley Overpa...|     Abbott-Thompson|    1|[45.0,8988.67,1.0...|[-0.2317786625174...|[0.44231335380820...|       1.0|\n",
      "|       Nicole Olson| 40|       8283.32|              1|  5.1|       13|2012-11-22 05:35:03|11488 Weaver Cape...|Smith, Kim and Ma...|    1|[40.0,8283.32,1.0...|[-2.4767276653354...|[0.07750584654762...|       1.0|\n",
      "|     Harold Griffin| 41|       6569.87|              1|  4.3|       11|2015-03-28 02:13:44|1774 Peter Row Ap...|Snyder, Lee and M...|    1|[41.0,6569.87,1.0...|[0.40333390905732...|[0.59948840339001...|       0.0|\n",
      "|       James Wright| 38|      10494.82|              1| 6.81|       12|2015-07-22 08:38:40|45408 David Path ...|      Sanders-Pierce|    1|[38.0,10494.82,1....|[-2.1958937922764...|[0.10011983442723...|       1.0|\n",
      "|      Doris Wilkins| 45|       8213.41|              1| 7.35|       11|2006-09-03 06:13:55|28216 Wright Moun...|Andrews, Adams an...|    1|[45.0,8213.41,1.0...|[-1.6234753540719...|[0.16472613389825...|       1.0|\n",
      "|Katherine Carpenter| 43|      11226.88|              0| 8.08|       12|2006-10-22 04:42:38|Unit 4948 Box 481...|Morgan, Phillips ...|    1|[43.0,11226.88,0....|[-2.7600916420617...|[0.05951923594954...|       1.0|\n",
      "|     Lindsay Martin| 53|       5515.09|              0| 6.85|        8|2015-10-07 00:27:10|69203 Crosby Divi...|      Villanueva LLC|    1|[53.0,5515.09,0.0...|[2.39741736411601...|[0.91663015248310...|       0.0|\n",
      "|        Kathy Curry| 46|        8046.4|              1| 5.69|        8|2014-11-06 23:47:14|9569 Caldwell Cre...|Berry, Orr and Ca...|    1|[46.0,8046.4,1.0,...|[2.89720466059667...|[0.94770808020218...|       0.0|\n",
      "+-------------------+---+--------------+---------------+-----+---------+-------------------+--------------------+--------------------+-----+--------------------+--------------------+--------------------+----------+\n",
      "only showing top 20 rows\n",
      "\n"
     ]
    }
   ],
   "source": [
    "final_result.show()"
   ]
  },
  {
   "cell_type": "code",
   "execution_count": 39,
   "id": "8f01c6f8",
   "metadata": {},
   "outputs": [
    {
     "name": "stdout",
     "output_type": "stream",
     "text": [
      "+--------------------+----------+\n",
      "|             company|prediction|\n",
      "+--------------------+----------+\n",
      "|          Harvey LLC|       0.0|\n",
      "|          Wilson PLC|       1.0|\n",
      "|Miller, Johnson a...|       1.0|\n",
      "|           Smith Inc|       0.0|\n",
      "|          Love-Jones|       0.0|\n",
      "|        Kelly-Warren|       0.0|\n",
      "|   Reynolds-Sheppard|       1.0|\n",
      "|          Singh-Cole|       0.0|\n",
      "|           Lopez PLC|       1.0|\n",
      "|       Reed-Martinez|       1.0|\n",
      "|Briggs, Lamb and ...|       0.0|\n",
      "|    Figueroa-Maynard|       1.0|\n",
      "|     Abbott-Thompson|       1.0|\n",
      "|Smith, Kim and Ma...|       1.0|\n",
      "|Snyder, Lee and M...|       0.0|\n",
      "|      Sanders-Pierce|       1.0|\n",
      "|Andrews, Adams an...|       1.0|\n",
      "|Morgan, Phillips ...|       1.0|\n",
      "|      Villanueva LLC|       0.0|\n",
      "|Berry, Orr and Ca...|       0.0|\n",
      "+--------------------+----------+\n",
      "only showing top 20 rows\n",
      "\n"
     ]
    }
   ],
   "source": [
    "final_result.select('company','prediction').show()"
   ]
  },
  {
   "cell_type": "code",
   "execution_count": 40,
   "id": "d94f794f",
   "metadata": {},
   "outputs": [
    {
     "name": "stdout",
     "output_type": "stream",
     "text": [
      "+-------+-------------+-----------------+-----------------+------------------+-----------------+------------------+-------------------+--------------------+--------------------+-------------------+\n",
      "|summary|        Names|              Age|   Total_Purchase|   Account_Manager|            Years|         Num_Sites|       Onboard_date|            Location|             Company|              Churn|\n",
      "+-------+-------------+-----------------+-----------------+------------------+-----------------+------------------+-------------------+--------------------+--------------------+-------------------+\n",
      "|  count|          900|              900|              900|               900|              900|               900|                900|                 900|                 900|                900|\n",
      "|   mean|         null|41.81666666666667|10062.82403333334|0.4811111111111111| 5.27315555555555| 8.587777777777777|               null|                null|                null|0.16666666666666666|\n",
      "| stddev|         null|6.127560416916251|2408.644531858096|0.4999208935073339|1.274449013194616|1.7648355920350969|               null|                null|                null| 0.3728852122772358|\n",
      "|    min|   Aaron King|               22|            100.0|                 0|              1.0|                 3|2006-01-02 04:16:13|00103 Jeffrey Cre...|     Abbott-Thompson|                  0|\n",
      "|    max|Zachary Walsh|               65|         18026.01|                 1|             9.15|                14|2016-12-28 04:07:38|Unit 9800 Box 287...|Zuniga, Clark and...|                  1|\n",
      "+-------+-------------+-----------------+-----------------+------------------+-----------------+------------------+-------------------+--------------------+--------------------+-------------------+\n",
      "\n"
     ]
    }
   ],
   "source": [
    "test_new_customers.describe().show()"
   ]
  },
  {
   "cell_type": "code",
   "execution_count": null,
   "id": "344ef77a",
   "metadata": {},
   "outputs": [],
   "source": []
  }
 ],
 "metadata": {
  "kernelspec": {
   "display_name": "Python 3",
   "language": "python",
   "name": "python3"
  },
  "language_info": {
   "codemirror_mode": {
    "name": "ipython",
    "version": 3
   },
   "file_extension": ".py",
   "mimetype": "text/x-python",
   "name": "python",
   "nbconvert_exporter": "python",
   "pygments_lexer": "ipython3",
   "version": "3.8.5"
  }
 },
 "nbformat": 4,
 "nbformat_minor": 5
}
