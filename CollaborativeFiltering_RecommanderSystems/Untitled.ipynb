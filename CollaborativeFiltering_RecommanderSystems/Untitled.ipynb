{
 "cells": [
  {
   "cell_type": "code",
   "execution_count": 2,
   "id": "85c740f8",
   "metadata": {},
   "outputs": [],
   "source": [
    "from pyspark.sql import SparkSession"
   ]
  },
  {
   "cell_type": "code",
   "execution_count": 3,
   "id": "5399f187",
   "metadata": {},
   "outputs": [],
   "source": [
    "spark = SparkSession.builder.appName(\"rec\").getOrCreate()"
   ]
  },
  {
   "cell_type": "code",
   "execution_count": 4,
   "id": "2a64be96",
   "metadata": {},
   "outputs": [],
   "source": [
    "from pyspark.ml.recommendation import ALS"
   ]
  },
  {
   "cell_type": "code",
   "execution_count": 5,
   "id": "6d1c07f0",
   "metadata": {},
   "outputs": [],
   "source": [
    "from pyspark.ml.evaluation import RegressionEvaluator"
   ]
  },
  {
   "cell_type": "code",
   "execution_count": 6,
   "id": "54d572c3",
   "metadata": {},
   "outputs": [],
   "source": [
    "data = spark.read.csv('movielens_ratings.csv',inferSchema=True, header=True)"
   ]
  },
  {
   "cell_type": "code",
   "execution_count": 7,
   "id": "ae452404",
   "metadata": {},
   "outputs": [
    {
     "name": "stdout",
     "output_type": "stream",
     "text": [
      "+------+-------+------+\n",
      "|userId|movieId|rating|\n",
      "+------+-------+------+\n",
      "|     1|      2|   3.5|\n",
      "|     1|     29|   3.5|\n",
      "|     1|     32|   3.5|\n",
      "|     1|     47|   3.5|\n",
      "|     1|     50|   3.5|\n",
      "|     1|    112|   3.5|\n",
      "|     1|    151|   4.0|\n",
      "|     1|    223|   4.0|\n",
      "|     1|    253|   4.0|\n",
      "|     1|    260|   4.0|\n",
      "|     1|    293|   4.0|\n",
      "|     1|    296|   4.0|\n",
      "|     1|    318|   4.0|\n",
      "|     1|    337|   3.5|\n",
      "|     1|    367|   3.5|\n",
      "|     1|    541|   4.0|\n",
      "|     1|    589|   3.5|\n",
      "|     1|    593|   3.5|\n",
      "|     1|    653|   3.0|\n",
      "|     1|    919|   3.5|\n",
      "+------+-------+------+\n",
      "only showing top 20 rows\n",
      "\n"
     ]
    }
   ],
   "source": [
    "data.show()"
   ]
  },
  {
   "cell_type": "code",
   "execution_count": 8,
   "id": "f02b25a6",
   "metadata": {},
   "outputs": [
    {
     "name": "stdout",
     "output_type": "stream",
     "text": [
      "+-------+-----------------+------------------+------------------+\n",
      "|summary|           userId|           movieId|            rating|\n",
      "+-------+-----------------+------------------+------------------+\n",
      "|  count|           100000|            100000|            100000|\n",
      "|   mean|         362.8304|         8572.4658|          3.507605|\n",
      "| stddev|196.8029033568026|19056.086005583176|1.0629280136183334|\n",
      "|    min|                1|                 1|               0.5|\n",
      "|    max|              702|            128594|               5.0|\n",
      "+-------+-----------------+------------------+------------------+\n",
      "\n"
     ]
    }
   ],
   "source": [
    "data.describe().show()"
   ]
  },
  {
   "cell_type": "code",
   "execution_count": 9,
   "id": "2ef2f5de",
   "metadata": {},
   "outputs": [],
   "source": [
    "training, test = data.randomSplit([0.8,0.2])"
   ]
  },
  {
   "cell_type": "code",
   "execution_count": 10,
   "id": "cc5688de",
   "metadata": {},
   "outputs": [],
   "source": [
    "als = ALS(maxIter=5, regParam=0.01,userCol='userId',itemCol='movieId',ratingCol='rating')"
   ]
  },
  {
   "cell_type": "code",
   "execution_count": 11,
   "id": "32c97421",
   "metadata": {},
   "outputs": [],
   "source": [
    "model = als.fit(training)"
   ]
  },
  {
   "cell_type": "code",
   "execution_count": 12,
   "id": "190bdc19",
   "metadata": {},
   "outputs": [],
   "source": [
    "predictions = model.transform(test)"
   ]
  },
  {
   "cell_type": "code",
   "execution_count": 13,
   "id": "816ca54a",
   "metadata": {},
   "outputs": [
    {
     "name": "stdout",
     "output_type": "stream",
     "text": [
      "+------+-------+------+----------+\n",
      "|userId|movieId|rating|prediction|\n",
      "+------+-------+------+----------+\n",
      "|   101|    471|   3.0| 3.9133773|\n",
      "|   377|    471|   5.0| 3.0475051|\n",
      "|   650|    471|   4.5|  4.039208|\n",
      "|   579|    471|   5.0|  4.315957|\n",
      "|   504|    471|   3.0|  4.682068|\n",
      "|   489|    471|   5.0|  2.480452|\n",
      "|   461|    471|   2.0| 2.9963946|\n",
      "|   381|    471|   4.0|  3.633883|\n",
      "|   648|    471|   5.0| 3.2886457|\n",
      "|   245|    471|   5.0|  4.129113|\n",
      "|   109|    471|   5.0| 3.6925142|\n",
      "|    14|    471|   5.0| 4.0189414|\n",
      "|    46|    833|   3.0|  4.018633|\n",
      "|   133|   1088|   2.5| 2.3960078|\n",
      "|    91|   1088|   2.5| 2.9443245|\n",
      "|   654|   1088|   5.0|  4.002043|\n",
      "|   206|   1088|   4.5| 3.6625388|\n",
      "|    54|   1088|   3.0| 3.0165172|\n",
      "|   279|   1088|   4.0| 3.4119813|\n",
      "|   586|   1088|   1.0| 2.3550816|\n",
      "+------+-------+------+----------+\n",
      "only showing top 20 rows\n",
      "\n"
     ]
    }
   ],
   "source": [
    "predictions.show()"
   ]
  },
  {
   "cell_type": "code",
   "execution_count": 14,
   "id": "b9165595",
   "metadata": {},
   "outputs": [],
   "source": [
    "evaluator = RegressionEvaluator(metricName='rmse',labelCol='rating',predictionCol='prediction')"
   ]
  },
  {
   "cell_type": "code",
   "execution_count": 15,
   "id": "52256ebd",
   "metadata": {},
   "outputs": [],
   "source": [
    "rmse = evaluator.evaluate(predictions)"
   ]
  },
  {
   "cell_type": "code",
   "execution_count": 16,
   "id": "991fce2e",
   "metadata": {},
   "outputs": [
    {
     "name": "stdout",
     "output_type": "stream",
     "text": [
      "RMSE\n",
      "nan\n"
     ]
    }
   ],
   "source": [
    "print(\"RMSE\")\n",
    "print(rmse)"
   ]
  },
  {
   "cell_type": "code",
   "execution_count": 17,
   "id": "d747dd83",
   "metadata": {},
   "outputs": [],
   "source": [
    "single_user = test.filter(test['userId']==11).select(['movieId','userId'])"
   ]
  },
  {
   "cell_type": "code",
   "execution_count": 18,
   "id": "2fab3295",
   "metadata": {},
   "outputs": [
    {
     "name": "stdout",
     "output_type": "stream",
     "text": [
      "+-------+------+\n",
      "|movieId|userId|\n",
      "+-------+------+\n",
      "|    158|    11|\n",
      "|    165|    11|\n",
      "|    208|    11|\n",
      "|    377|    11|\n",
      "|    384|    11|\n",
      "|    442|    11|\n",
      "|    541|    11|\n",
      "|    589|    11|\n",
      "|    597|    11|\n",
      "|    610|    11|\n",
      "|   1028|    11|\n",
      "|   1097|    11|\n",
      "|   1196|    11|\n",
      "|   1214|    11|\n",
      "|   1291|    11|\n",
      "|   1320|    11|\n",
      "|   1339|    11|\n",
      "|   1391|    11|\n",
      "|   1584|    11|\n",
      "|   1591|    11|\n",
      "+-------+------+\n",
      "only showing top 20 rows\n",
      "\n"
     ]
    }
   ],
   "source": [
    "single_user.show()"
   ]
  },
  {
   "cell_type": "code",
   "execution_count": 19,
   "id": "6ae5a37e",
   "metadata": {},
   "outputs": [],
   "source": [
    "recommendations = model.transform(single_user)"
   ]
  },
  {
   "cell_type": "code",
   "execution_count": 20,
   "id": "0e0b425d",
   "metadata": {},
   "outputs": [
    {
     "name": "stdout",
     "output_type": "stream",
     "text": [
      "+-------+------+----------+\n",
      "|movieId|userId|prediction|\n",
      "+-------+------+----------+\n",
      "|  70227|    11|       NaN|\n",
      "|   6795|    11|       NaN|\n",
      "|   7345|    11|       NaN|\n",
      "|   3745|    11| 5.8218637|\n",
      "|  53125|    11| 5.6413517|\n",
      "|   8371|    11| 5.5462937|\n",
      "|  69526|    11|  5.424989|\n",
      "|  52281|    11|  5.390704|\n",
      "|   5283|    11| 5.3097944|\n",
      "|  58559|    11| 5.1177745|\n",
      "|   7153|    11| 5.1150546|\n",
      "|   3000|    11|  5.075387|\n",
      "|  48304|    11| 5.0643663|\n",
      "|   2762|    11| 4.9932423|\n",
      "|   2420|    11| 4.9323344|\n",
      "|  50442|    11|  4.856162|\n",
      "|   1876|    11| 4.8546805|\n",
      "|  66297|    11| 4.8180857|\n",
      "|  34319|    11| 4.8027062|\n",
      "|   1196|    11|  4.749913|\n",
      "+-------+------+----------+\n",
      "only showing top 20 rows\n",
      "\n"
     ]
    }
   ],
   "source": [
    "recommendations.orderBy('prediction',ascending= False).show()"
   ]
  },
  {
   "cell_type": "code",
   "execution_count": null,
   "id": "92f16411",
   "metadata": {},
   "outputs": [],
   "source": []
  }
 ],
 "metadata": {
  "kernelspec": {
   "display_name": "Python 3",
   "language": "python",
   "name": "python3"
  },
  "language_info": {
   "codemirror_mode": {
    "name": "ipython",
    "version": 3
   },
   "file_extension": ".py",
   "mimetype": "text/x-python",
   "name": "python",
   "nbconvert_exporter": "python",
   "pygments_lexer": "ipython3",
   "version": "3.8.5"
  }
 },
 "nbformat": 4,
 "nbformat_minor": 5
}
