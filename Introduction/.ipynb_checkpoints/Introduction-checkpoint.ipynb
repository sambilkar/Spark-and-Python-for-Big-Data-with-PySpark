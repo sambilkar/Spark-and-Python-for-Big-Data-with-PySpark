{
 "cells": [
  {
   "cell_type": "markdown",
   "id": "2ade3259",
   "metadata": {},
   "source": [
    "# Python + Spark = PySpark"
   ]
  },
  {
   "cell_type": "markdown",
   "id": "85b4aa7c",
   "metadata": {},
   "source": [
    "### why Learn Python and Spark?"
   ]
  },
  {
   "cell_type": "markdown",
   "id": "f9b2890e",
   "metadata": {},
   "source": [
    "### Spark has been reported to be one of the most valuable tech skills to learn by Indeed.com!Demand for \n",
    "### Spark and Big Data skills has exploded!\n",
    "\n",
    "### spark is quickly becoming one of the most powerful Big Data tools!Run programs up to 100x faster than Hadoop MapReduce in memory\n",
    "\n",
    "#### 1. Setting Up Python [VM + ubuntu]\n",
    "#### 2. Databricks Setup\n",
    "#### 3. Local Virtual Setup [Python + Spark = PySpark]\n",
    "#### 4. AWS EC2 PySpark\n",
    "#### 5. AWS EMR Cluster Setup\n",
    "#### 6. Crash Course Python\n",
    "#### 7. Learn Spark basics\n",
    "#### 8. Learn Spark's Machine learning Library using the latest DataFrame API\n",
    "#### 9. Spark Streaming!"
   ]
  },
  {
   "cell_type": "markdown",
   "id": "1bef4abe",
   "metadata": {},
   "source": []
  },
  {
   "cell_type": "code",
   "execution_count": null,
   "id": "cdfcdf5c",
   "metadata": {},
   "outputs": [],
   "source": []
  },
  {
   "cell_type": "code",
   "execution_count": null,
   "id": "291e4e0f",
   "metadata": {},
   "outputs": [],
   "source": []
  },
  {
   "cell_type": "code",
   "execution_count": null,
   "id": "810eb1e8",
   "metadata": {},
   "outputs": [],
   "source": []
  }
 ],
 "metadata": {
  "kernelspec": {
   "display_name": "Python 3",
   "language": "python",
   "name": "python3"
  },
  "language_info": {
   "codemirror_mode": {
    "name": "ipython",
    "version": 3
   },
   "file_extension": ".py",
   "mimetype": "text/x-python",
   "name": "python",
   "nbconvert_exporter": "python",
   "pygments_lexer": "ipython3",
   "version": "3.8.5"
  }
 },
 "nbformat": 4,
 "nbformat_minor": 5
}
