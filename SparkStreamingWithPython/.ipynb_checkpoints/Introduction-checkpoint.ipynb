{
 "cells": [
  {
   "cell_type": "markdown",
   "id": "bdff8cb0",
   "metadata": {},
   "source": [
    "## The steps for streaming will be:\n",
    "    1. Create a SparkContext\n",
    "    2. Create a StreaminContext\n",
    "    3. Create a Socket Text Strem\n",
    "    4. Ream in the lines as s \"DStream\""
   ]
  },
  {
   "cell_type": "markdown",
   "id": "f1fd89bf",
   "metadata": {},
   "source": [
    "## The steps for workin with the data:\n",
    "    1. Split the input into a list of words\n",
    "    2. Map each word to a tuple: (word,1)\n",
    "    3. Then group (reduce) the tuples by the word(key) and sum up the second argument (the number one)\n",
    "    4. That will then provide us with a word count in the form ('hello,3) for each line.\n",
    "    5. As a quick note, the RDD sysntx relies heavily on lambda expressions, which ar ejust \n",
    "        quick anonymous functions.\n",
    "    6. fortunaely, all the lambda expressions used here are quite simple and basic\n",
    "    7. Lets started with example"
   ]
  },
  {
   "cell_type": "code",
   "execution_count": null,
   "id": "a3e506cb",
   "metadata": {},
   "outputs": [],
   "source": []
  }
 ],
 "metadata": {
  "kernelspec": {
   "display_name": "Python 3",
   "language": "python",
   "name": "python3"
  },
  "language_info": {
   "codemirror_mode": {
    "name": "ipython",
    "version": 3
   },
   "file_extension": ".py",
   "mimetype": "text/x-python",
   "name": "python",
   "nbconvert_exporter": "python",
   "pygments_lexer": "ipython3",
   "version": "3.8.5"
  }
 },
 "nbformat": 4,
 "nbformat_minor": 5
}
