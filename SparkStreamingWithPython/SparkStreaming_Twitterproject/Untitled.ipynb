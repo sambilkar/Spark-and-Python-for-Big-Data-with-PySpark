{
 "cells": [
  {
   "cell_type": "markdown",
   "id": "499eff6e",
   "metadata": {},
   "source": [
    "# We will create a simple application that plots out the popularity of tags associated with incoming tweets streamed live form Twitter"
   ]
  },
  {
   "cell_type": "raw",
   "id": "f0efd759",
   "metadata": {},
   "source": [
    "We first need to create a Twitter Developer Account to get our access codes\n",
    "Then you'll need to install the tweepy library as well as matplotlib and seaborn "
   ]
  },
  {
   "cell_type": "markdown",
   "id": "d170a5bf",
   "metadata": {},
   "source": [
    "### Lets get started by goingto:\n",
    "    apps.twitter.com"
   ]
  },
  {
   "cell_type": "code",
   "execution_count": null,
   "id": "b57f7acc",
   "metadata": {},
   "outputs": [],
   "source": []
  }
 ],
 "metadata": {
  "kernelspec": {
   "display_name": "Python 3",
   "language": "python",
   "name": "python3"
  },
  "language_info": {
   "codemirror_mode": {
    "name": "ipython",
    "version": 3
   },
   "file_extension": ".py",
   "mimetype": "text/x-python",
   "name": "python",
   "nbconvert_exporter": "python",
   "pygments_lexer": "ipython3",
   "version": "3.8.5"
  }
 },
 "nbformat": 4,
 "nbformat_minor": 5
}
